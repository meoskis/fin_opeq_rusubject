{
 "cells": [
  {
   "cell_type": "markdown",
   "id": "8b2ba807",
   "metadata": {},
   "source": [
    "### Библиотеки"
   ]
  },
  {
   "cell_type": "code",
   "execution_count": 113,
   "id": "d3210fca",
   "metadata": {},
   "outputs": [],
   "source": [
    "import numpy as np\n",
    "import pandas as pd\n",
    "import json\n",
    "import re\n",
    "import geopandas as gpd\n",
    "import matplotlib.pyplot as plt\n",
    "import folium\n",
    "from IPython.display import IFrame\n",
    "import geocoder\n",
    "import copy"
   ]
  },
  {
   "cell_type": "markdown",
   "id": "2cb667b4",
   "metadata": {},
   "source": [
    "### Функции"
   ]
  },
  {
   "cell_type": "code",
   "execution_count": 197,
   "id": "eeb79a9e",
   "metadata": {},
   "outputs": [],
   "source": [
    "def find_closest(data:list,my_loc=False, dir_loc=False, by_coords=False, coords=[]) -> (dict, list, str):\n",
    "    '''\n",
    "    Поиск ближайшего города\n",
    "    Параметры:\n",
    "        data:list - список с информацией по субъектам,\n",
    "        my_loc:bool - флаг собственной локации,\n",
    "        dir_loc:bool - флаг заданной локации,\n",
    "        by_coords:bool - флаг заданной локации координатами,\n",
    "        coords:list - координаты локации\n",
    "    Возвращает:\n",
    "        dict - словарь с информацией по подходящему субъекту\n",
    "    '''\n",
    "    \n",
    "    if my_loc and not coords:\n",
    "        print('Собственная локация работает не очень стабильно.')\n",
    "        geo = geocoder.ip('me')\n",
    "        geo = geo.latlng\n",
    "        loc_name = 'Ваша локация'\n",
    "    elif dir_loc and not coords:\n",
    "        adres = str(input('Введите адрес на английском языке (город или точное местоположение). '))\n",
    "        geo = geolocator.geocode(adres)\n",
    "        geo = [geo.latitude, geo.longitude]\n",
    "        print(geo)\n",
    "        loc_name = adres\n",
    "    elif by_coords or coords:\n",
    "        geo = coords\n",
    "        loc_name = str(coords)\n",
    "    else:\n",
    "        return 'Внимание ошибка! Определитесь с точкой расчета.'\n",
    "\n",
    "    target = 10**5\n",
    "    target_sub = []\n",
    "    for sub in data:\n",
    "        distance = count_distance(geo[0], geo[1], sub['subjects_board_cities_coords'][0], sub['subjects_board_cities_coords'][1])\n",
    "        if target > distance:\n",
    "            target = distance\n",
    "            target_sub = sub\n",
    "            \n",
    "    return(target_sub, geo, loc_name)\n",
    "\n",
    "\n",
    "def count_distance(lat1:float, lon1:float, lat2:float, lon2:float) -> float:\n",
    "    '''\n",
    "    Расчет расстояния по формуле гаверсинуса\n",
    "    Параметры:\n",
    "        lat1:float - широта 1-ой точки\n",
    "        lon1:float - долгота 1-ой точки\n",
    "        lat2:float - широта 2-ой точки\n",
    "        lon2:float - долгота 2-ой точки\n",
    "    Возвращает:\n",
    "        float - расстояние между точками\n",
    "    '''\n",
    "    # p — коэффициент преобразования угла, выраженного в градусах, в радианы: π/180.\n",
    "    p = 0.017453292519943295\n",
    "    hav = 0.5 - np.cos((lat2-lat1)*p)/2 + np.cos(lat1*p)*np.cos(lat2*p) * (1-np.cos((lon2-lon1)*p)) / 2\n",
    "    return 12742 * np.arcsin(np.sqrt(hav))\n",
    "\n",
    "def coord_fixer(coords:str) -> list:\n",
    "    '''\n",
    "    Необходима для конвертации записаных строковых координат\n",
    "    городов в кортеж\n",
    "    Параметры:\n",
    "        coords:str - координаты города\n",
    "    Возвращает:\n",
    "        set - преобразованный кортеж координат\n",
    "    '''\n",
    "    regex = r'[0-9]+,[0-9]+'\n",
    "    coords = re.findall(regex,coords)\n",
    "    coords = list(map(lambda x: float(x.replace(',','.')), coords))\n",
    "    return coords\n",
    "\n",
    "def embed_map(m:folium.folium.Map, file_name:str) -> IFrame:\n",
    "    '''\n",
    "    Html настройка реальной карты\n",
    "    Параметры:\n",
    "        m:folium.folium.Map - folium карта\n",
    "        file_name:str - название карты\n",
    "    Возвращает:\n",
    "        IFrame\n",
    "    '''\n",
    "    m.save(file_name)\n",
    "    return IFrame(file_name, width='100%', height='500px')"
   ]
  },
  {
   "cell_type": "markdown",
   "id": "8230d810",
   "metadata": {},
   "source": [
    "### Считывание данных из json-файла"
   ]
  },
  {
   "cell_type": "code",
   "execution_count": 147,
   "id": "9f5e13ff",
   "metadata": {},
   "outputs": [],
   "source": [
    "with open('rusubjects_data.json', 'r') as openfile:\n",
    "    data = json.load(openfile)"
   ]
  },
  {
   "cell_type": "code",
   "execution_count": 148,
   "id": "d45a8994",
   "metadata": {},
   "outputs": [
    {
     "data": {
      "text/plain": [
       "[{'subjects_board': 'Республика Карелия',\n",
       "  'board_countries': ['Финляндия'],\n",
       "  'subjects_board_cities': 'Петрозаводск',\n",
       "  'subjects_board_cities_coords': '61,7849 с. ш., 34,3469 в. д.'},\n",
       " {'subjects_board': 'Калининградская область',\n",
       "  'board_countries': ['Польша', 'Литва'],\n",
       "  'subjects_board_cities': 'Калининград',\n",
       "  'subjects_board_cities_coords': '54,7065 с. ш., 20,511 в. д.'},\n",
       " {'subjects_board': 'Ленинградская область',\n",
       "  'board_countries': ['Финляндия', 'Эстония'],\n",
       "  'subjects_board_cities': 'Санкт-Петербург',\n",
       "  'subjects_board_cities_coords': '59,9386 с. ш., 30,3141 в. д.'}]"
      ]
     },
     "execution_count": 148,
     "metadata": {},
     "output_type": "execute_result"
    }
   ],
   "source": [
    "data[:3]"
   ]
  },
  {
   "cell_type": "markdown",
   "id": "3cddacfc",
   "metadata": {},
   "source": [
    "### Поиск ближайшего города/субъекта"
   ]
  },
  {
   "cell_type": "code",
   "execution_count": 201,
   "id": "68400a04",
   "metadata": {},
   "outputs": [
    {
     "name": "stdout",
     "output_type": "stream",
     "text": [
      "Введите адрес на английском языке (город или точное местоположение). Norilsk\n",
      "[69.3498394, 88.200517]\n"
     ]
    },
    {
     "data": {
      "text/plain": [
       "{'subjects_board': 'Новосибирская область',\n",
       " 'board_countries': ['Казахстан'],\n",
       " 'subjects_board_cities': 'Новосибирск',\n",
       " 'subjects_board_cities_coords': [55.0415, 82.9346]}"
      ]
     },
     "execution_count": 201,
     "metadata": {},
     "output_type": "execute_result"
    }
   ],
   "source": [
    "closest_sub, geo, loc_name = find_closest(data_cf, dir_loc=True)\n",
    "closest_sub"
   ]
  },
  {
   "cell_type": "markdown",
   "id": "9d607444",
   "metadata": {},
   "source": [
    "### Подготовка датасета"
   ]
  },
  {
   "cell_type": "code",
   "execution_count": 202,
   "id": "f9b3fe19",
   "metadata": {},
   "outputs": [],
   "source": [
    "data_cf = copy.deepcopy(data)\n",
    "for sub in data_cf:\n",
    "    sub['subjects_board_cities_coords'] = coord_fixer(sub['subjects_board_cities_coords'])"
   ]
  },
  {
   "cell_type": "markdown",
   "id": "8d7a1fd9",
   "metadata": {},
   "source": [
    "### Построение карты"
   ]
  },
  {
   "cell_type": "code",
   "execution_count": 203,
   "id": "76e14d59",
   "metadata": {},
   "outputs": [
    {
     "data": {
      "text/html": [
       "\n",
       "        <iframe\n",
       "            width=\"100%\"\n",
       "            height=\"500px\"\n",
       "            src=\"rus_map.html\"\n",
       "            frameborder=\"0\"\n",
       "            allowfullscreen\n",
       "            \n",
       "        ></iframe>\n",
       "        "
      ],
      "text/plain": [
       "<IPython.lib.display.IFrame at 0x1bcc7e8a8f0>"
      ]
     },
     "execution_count": 203,
     "metadata": {},
     "output_type": "execute_result"
    }
   ],
   "source": [
    "rus_map = folium.Map(\n",
    "          location=[64.0914, 101.6016],\n",
    "          zoom_start=3\n",
    ")\n",
    "\n",
    "folium.Marker(\n",
    "    location=geo,\n",
    "    tooltip=loc_name,\n",
    "    icon=folium.Icon(icon=\"glyphicon glyphicon-hand-down\", color='red', icon_color='white'),\n",
    ").add_to(rus_map)\n",
    "\n",
    "for sub in data_cf:\n",
    "    if sub['subjects_board'] == closest_sub['subjects_board']:\n",
    "        folium.Marker(\n",
    "            location=sub['subjects_board_cities_coords'],\n",
    "            tooltip=sub['subjects_board_cities'],\n",
    "            icon=folium.Icon(icon=\"glyphicon glyphicon-bookmark\", color='red', icon_color='white'),\n",
    "        ).add_to(rus_map)\n",
    "        \n",
    "    else:\n",
    "        \n",
    "        folium.Marker(\n",
    "            location=sub['subjects_board_cities_coords'],\n",
    "            tooltip=sub['subjects_board_cities'],\n",
    "            icon=folium.Icon(icon=\"glyphicon glyphicon-menu-down\", color='blue', icon_color='red'),\n",
    "        ).add_to(rus_map)\n",
    "        \n",
    "folium.PolyLine([geo, closest_sub['subjects_board_cities_coords']], tooltip=\"Coast\", color='red').add_to(rus_map)\n",
    "\n",
    "embed_map(rus_map, 'rus_map.html')"
   ]
  }
 ],
 "metadata": {
  "kernelspec": {
   "display_name": "Python 3 (ipykernel)",
   "language": "python",
   "name": "python3"
  },
  "language_info": {
   "codemirror_mode": {
    "name": "ipython",
    "version": 3
   },
   "file_extension": ".py",
   "mimetype": "text/x-python",
   "name": "python",
   "nbconvert_exporter": "python",
   "pygments_lexer": "ipython3",
   "version": "3.10.8"
  }
 },
 "nbformat": 4,
 "nbformat_minor": 5
}
